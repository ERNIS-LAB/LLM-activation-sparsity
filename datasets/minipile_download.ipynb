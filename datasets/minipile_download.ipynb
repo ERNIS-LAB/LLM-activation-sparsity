{
 "cells": [
  {
   "cell_type": "code",
   "execution_count": null,
   "metadata": {},
   "outputs": [],
   "source": [
    "links = [\n",
    "    'https://huggingface.co/datasets/JeanKaddour/minipile/resolve/main/data/test-00000-of-00001-010a6231c4b54d31.parquet',\n",
    "    'https://huggingface.co/datasets/JeanKaddour/minipile/resolve/main/data/train-00000-of-00012-6fbcb5acda05b3c0.parquet',\n",
    "    'https://huggingface.co/datasets/JeanKaddour/minipile/resolve/main/data/train-00001-of-00012-2bb9d088068a84c9.parquet',\n",
    "    'https://huggingface.co/datasets/JeanKaddour/minipile/resolve/main/data/train-00002-of-00012-efb6c8de04272068.parquet',\n",
    "    'https://huggingface.co/datasets/JeanKaddour/minipile/resolve/main/data/train-00003-of-00012-47006e5a888a9324.parquet',\n",
    "    'https://huggingface.co/datasets/JeanKaddour/minipile/resolve/main/data/train-00004-of-00012-a6a94a0207e8e96c.parquet',\n",
    "    'https://huggingface.co/datasets/JeanKaddour/minipile/resolve/main/data/train-00005-of-00012-d255c96cd87a0aa7.parquet',\n",
    "    'https://huggingface.co/datasets/JeanKaddour/minipile/resolve/main/data/train-00006-of-00012-89040916c30140e6.parquet',\n",
    "    'https://huggingface.co/datasets/JeanKaddour/minipile/resolve/main/data/train-00007-of-00012-239b43e016d4ac92.parquet',\n",
    "    'https://huggingface.co/datasets/JeanKaddour/minipile/resolve/main/data/train-00008-of-00012-3273ba93936ad8ef.parquet',\n",
    "    'https://huggingface.co/datasets/JeanKaddour/minipile/resolve/main/data/train-00009-of-00012-0b640f47936d940a.parquet',\n",
    "    'https://huggingface.co/datasets/JeanKaddour/minipile/resolve/main/data/train-00010-of-00012-d266658ccbfa0537.parquet',\n",
    "    'https://huggingface.co/datasets/JeanKaddour/minipile/resolve/main/data/train-00011-of-00012-aec474909333c631.parquet',\n",
    "    'https://huggingface.co/datasets/JeanKaddour/minipile/resolve/main/data/validation-00000-of-00001-a2192e61a091cecb.parquet']"
   ]
  },
  {
   "cell_type": "code",
   "execution_count": null,
   "metadata": {},
   "outputs": [],
   "source": [
    "import os\n",
    "\n",
    "# Directory path to save the downloaded files\n",
    "directory = 'downloads'\n",
    "\n",
    "# Create the directory if it doesn't exist\n",
    "os.makedirs(directory, exist_ok=True)\n",
    "\n",
    "# Iterate over each link and download the file\n",
    "for link in links:\n",
    "    # Extract the filename from the link\n",
    "    filename = link.split('/')[-1]\n",
    "\n",
    "    # Construct the wget command\n",
    "    command = f'wget {link} -P {directory}'\n",
    "\n",
    "    # Execute the wget command\n",
    "    os.system(command)\n"
   ]
  }
 ],
 "metadata": {
  "kernelspec": {
   "display_name": ".venv",
   "language": "python",
   "name": "python3"
  },
  "language_info": {
   "codemirror_mode": {
    "name": "ipython",
    "version": 3
   },
   "file_extension": ".py",
   "mimetype": "text/x-python",
   "name": "python",
   "nbconvert_exporter": "python",
   "pygments_lexer": "ipython3",
   "version": "3.8.10"
  }
 },
 "nbformat": 4,
 "nbformat_minor": 2
}
